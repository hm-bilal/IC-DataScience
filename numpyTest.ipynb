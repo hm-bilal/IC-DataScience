{
 "cells": [
  {
   "cell_type": "code",
   "execution_count": 38,
   "metadata": {},
   "outputs": [
    {
     "name": "stdout",
     "output_type": "stream",
     "text": [
      "<class 'tuple'>\n"
     ]
    }
   ],
   "source": [
    "import numpy as np\n",
    "x=(1,2,3)\n",
    "a=np.array([x,(6,5,6)])\n",
    "b=np.array([(1.5,2,3),(4,5,6)],dtype = float)\n",
    "print(type(x))"
   ]
  },
  {
   "cell_type": "code",
   "execution_count": 44,
   "metadata": {},
   "outputs": [
    {
     "name": "stdout",
     "output_type": "stream",
     "text": [
      "[[3 4 5 6]\n",
      " ['abc' 'xyz' 'lmn' 'opq']\n",
      " [23 15 22 30]\n",
      " [21 12 21 30]\n",
      " [22 10 29 26]]\n",
      "4.5\n",
      "3\n",
      "6\n",
      "18\n",
      "0.1411200080598672\n",
      "[[3 4 5 6]]\n"
     ]
    }
   ],
   "source": [
    "import pandas as pn\n",
    "import numpy as np\n",
    "\n",
    "df = pn.read_csv('/home/user/Documents/a.csv')\n",
    "\n",
    "a = np.array([df['id'],df['Name '],df['cie1'],df['cie2'],df['cie3']])\n",
    "\n",
    "print(a)\n",
    "print(np.mean(a[0]))\n",
    "print(np.min(a[0]))\n",
    "print(np.max(a[0]))\n",
    "print(np.sum(a[0]))\n",
    "print(np.sin(a[0][0]))\n",
    "print(a[0:1])"
   ]
  },
  {
   "cell_type": "code",
   "execution_count": null,
   "metadata": {},
   "outputs": [],
   "source": [
    "import pandas as pn\n",
    "import numpy as np\n",
    "\n",
    "df = pn.read_csv('/home/user/Documents/a.csv')\n",
    "\n",
    "a = np.array([df['id'],df['Name ']])"
   ]
  }
 ],
 "metadata": {
  "kernelspec": {
   "display_name": "Python 3",
   "language": "python",
   "name": "python3"
  },
  "language_info": {
   "codemirror_mode": {
    "name": "ipython",
    "version": 3
   },
   "file_extension": ".py",
   "mimetype": "text/x-python",
   "name": "python",
   "nbconvert_exporter": "python",
   "pygments_lexer": "ipython3",
   "version": "3.7.4"
  }
 },
 "nbformat": 4,
 "nbformat_minor": 2
}
